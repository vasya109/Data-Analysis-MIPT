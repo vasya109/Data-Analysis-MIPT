{
 "cells": [
  {
   "cell_type": "code",
   "execution_count": 1,
   "metadata": {},
   "outputs": [],
   "source": [
    "import numpy as np\n",
    "import pandas as pd\n",
    "\n",
    "import scipy\n",
    "\n",
    "import matplotlib.pyplot as plt\n",
    "import seaborn as sns"
   ]
  },
  {
   "cell_type": "code",
   "execution_count": 2,
   "metadata": {},
   "outputs": [],
   "source": [
    "sns.set_theme()"
   ]
  },
  {
   "cell_type": "markdown",
   "metadata": {},
   "source": [
    "# Домашнее задание по курсу анализа данных\n",
    "Версия от 12.10.2021\n",
    "\n",
    "Всего 50 баллов = 40 основных + 10 дополнительных\n",
    "\n",
    "**Оценка**  = (Количество баллов за работу*2 + 20)/10\n",
    "\n",
    "**Мягкий дедлайн: 30.10.2021  23:59**\n",
    "\n",
    "**Жесткий дедлайн: 6.11.2021  23:59**\n",
    "\n",
    "Присылать решение ссылкой на ваш **github** в телеграмм **@Aleron75** или на почту **milenkin.aa@phystech.edu**\n",
    "\n",
    "**Автор:** Миленькин Александр"
   ]
  },
  {
   "cell_type": "code",
   "execution_count": 3,
   "metadata": {},
   "outputs": [
    {
     "name": "stdout",
     "output_type": "stream",
     "text": [
      "Размеры (6000, 9)\n"
     ]
    },
    {
     "data": {
      "text/html": [
       "<div>\n",
       "<style scoped>\n",
       "    .dataframe tbody tr th:only-of-type {\n",
       "        vertical-align: middle;\n",
       "    }\n",
       "\n",
       "    .dataframe tbody tr th {\n",
       "        vertical-align: top;\n",
       "    }\n",
       "\n",
       "    .dataframe thead th {\n",
       "        text-align: right;\n",
       "    }\n",
       "</style>\n",
       "<table border=\"1\" class=\"dataframe\">\n",
       "  <thead>\n",
       "    <tr style=\"text-align: right;\">\n",
       "      <th></th>\n",
       "      <th>was_married</th>\n",
       "      <th>children</th>\n",
       "      <th>salary</th>\n",
       "      <th>sex</th>\n",
       "      <th>age</th>\n",
       "      <th>profession</th>\n",
       "      <th>home_cost</th>\n",
       "      <th>drive_info</th>\n",
       "      <th>happyness</th>\n",
       "    </tr>\n",
       "    <tr>\n",
       "      <th>id</th>\n",
       "      <th></th>\n",
       "      <th></th>\n",
       "      <th></th>\n",
       "      <th></th>\n",
       "      <th></th>\n",
       "      <th></th>\n",
       "      <th></th>\n",
       "      <th></th>\n",
       "      <th></th>\n",
       "    </tr>\n",
       "  </thead>\n",
       "  <tbody>\n",
       "    <tr>\n",
       "      <th>0</th>\n",
       "      <td>1</td>\n",
       "      <td>4.0</td>\n",
       "      <td>4.420530e+07</td>\n",
       "      <td>1</td>\n",
       "      <td>82.0</td>\n",
       "      <td>Engineer</td>\n",
       "      <td>1.003674e+07</td>\n",
       "      <td>NaN</td>\n",
       "      <td>0.727499</td>\n",
       "    </tr>\n",
       "    <tr>\n",
       "      <th>1</th>\n",
       "      <td>1</td>\n",
       "      <td>2.0</td>\n",
       "      <td>1.737490e+08</td>\n",
       "      <td>1</td>\n",
       "      <td>32.0</td>\n",
       "      <td>Doctor</td>\n",
       "      <td>1.014051e+07</td>\n",
       "      <td>0.0</td>\n",
       "      <td>0.383234</td>\n",
       "    </tr>\n",
       "    <tr>\n",
       "      <th>2</th>\n",
       "      <td>1</td>\n",
       "      <td>6.0</td>\n",
       "      <td>2.489055e+08</td>\n",
       "      <td>1</td>\n",
       "      <td>14.0</td>\n",
       "      <td>Entertainment</td>\n",
       "      <td>1.043318e+07</td>\n",
       "      <td>NaN</td>\n",
       "      <td>0.432142</td>\n",
       "    </tr>\n",
       "    <tr>\n",
       "      <th>3</th>\n",
       "      <td>0</td>\n",
       "      <td>1.0</td>\n",
       "      <td>1.268718e+08</td>\n",
       "      <td>0</td>\n",
       "      <td>10.0</td>\n",
       "      <td>Lawyer</td>\n",
       "      <td>1.004299e+07</td>\n",
       "      <td>NaN</td>\n",
       "      <td>0.377987</td>\n",
       "    </tr>\n",
       "    <tr>\n",
       "      <th>4</th>\n",
       "      <td>1</td>\n",
       "      <td>9.0</td>\n",
       "      <td>8.596042e+07</td>\n",
       "      <td>1</td>\n",
       "      <td>99.0</td>\n",
       "      <td>Artist</td>\n",
       "      <td>1.021908e+07</td>\n",
       "      <td>NaN</td>\n",
       "      <td>0.657579</td>\n",
       "    </tr>\n",
       "  </tbody>\n",
       "</table>\n",
       "</div>"
      ],
      "text/plain": [
       "    was_married  children        salary  sex   age     profession  \\\n",
       "id                                                                  \n",
       "0             1       4.0  4.420530e+07    1  82.0       Engineer   \n",
       "1             1       2.0  1.737490e+08    1  32.0         Doctor   \n",
       "2             1       6.0  2.489055e+08    1  14.0  Entertainment   \n",
       "3             0       1.0  1.268718e+08    0  10.0         Lawyer   \n",
       "4             1       9.0  8.596042e+07    1  99.0         Artist   \n",
       "\n",
       "       home_cost  drive_info  happyness  \n",
       "id                                       \n",
       "0   1.003674e+07         NaN   0.727499  \n",
       "1   1.014051e+07         0.0   0.383234  \n",
       "2   1.043318e+07         NaN   0.432142  \n",
       "3   1.004299e+07         NaN   0.377987  \n",
       "4   1.021908e+07         NaN   0.657579  "
      ]
     },
     "execution_count": 3,
     "metadata": {},
     "output_type": "execute_result"
    }
   ],
   "source": [
    "df = pd.read_csv('people_data_clustering.csv', index_col=0)\n",
    "print('Размеры',df.shape)\n",
    "df.head()"
   ]
  },
  {
   "cell_type": "markdown",
   "metadata": {},
   "source": [
    "<div class=\"alert alert-info\">\n",
    "<b>Про Датасет</b>\n",
    "    \n",
    "Датасет представляет собой информацию по жителям некоторого города.\n",
    "\n",
    "* `was_married` - Был ли когда-либо женат/замужем\n",
    "* `childrens` - Количество детей\n",
    "* `salary` - Уровень зарплаты\n",
    "* `sex` - Пол\n",
    "* `age` - Возраст\n",
    "* `home_cost` - Стоимость жилья\n",
    "* `Professon` - Профессия\n",
    "* `drive_info` - Есть ли водительские права\n",
    "    \n",
    "</div>"
   ]
  },
  {
   "cell_type": "markdown",
   "metadata": {},
   "source": [
    "<div class=\"alert alert-info\">\n",
    "<b>Задание</b>\n",
    "\n",
    "Изучить датасет и, используя класстерный анализ, разбить пользователей на сегменты. Сделать выводы о причинах такой кластеризации."
   ]
  },
  {
   "cell_type": "markdown",
   "metadata": {},
   "source": [
    "# Изучение датасета (5 баллов)\n",
    "* Какие признаки численные?\n",
    "* Какие признаки категориальные?\n",
    "* Какие признаки бинарные?\n",
    "* Какие признаки имеют нормальное распределение?\n",
    "* Какие признаки бессмысленные?"
   ]
  },
  {
   "cell_type": "code",
   "execution_count": null,
   "metadata": {},
   "outputs": [],
   "source": [
    "\"\"\"\n",
    "was_married - бинарный\n",
    "childrens - численный\n",
    "salary - численный\n",
    "sex - бинарный :)\n",
    "age - численный\n",
    "home_cost - численный\n",
    "Professon - категориальный\n",
    "drive_info - бинарный \n",
    "\n",
    "home_cost - имеет нормальное распределение с выбросами\n",
    "\"\"\"\n"
   ]
  },
  {
   "cell_type": "code",
   "execution_count": 4,
   "metadata": {},
   "outputs": [
    {
     "data": {
      "text/plain": [
       "<matplotlib.axes._subplots.AxesSubplot at 0x15efe48e3c8>"
      ]
     },
     "execution_count": 4,
     "metadata": {},
     "output_type": "execute_result"
    },
    {
     "data": {
      "image/png": "[encoded data removed]",
      "text/plain": [
       "<Figure size 432x288 with 1 Axes>"
      ]
     },
     "metadata": {},
     "output_type": "display_data"
    }
   ],
   "source": [
    "sns.histplot(df.children)"
   ]
  },
  {
   "cell_type": "code",
   "execution_count": 5,
   "metadata": {},
   "outputs": [
    {
     "data": {
      "text/plain": [
       "<matplotlib.axes._subplots.AxesSubplot at 0x15effc86fd0>"
      ]
     },
     "execution_count": 5,
     "metadata": {},
     "output_type": "execute_result"
    },
    {
     "data": {
      "image/png": "[encoded data removed]",
      "text/plain": [
       "<Figure size 432x288 with 1 Axes>"
      ]
     },
     "metadata": {},
     "output_type": "display_data"
    }
   ],
   "source": [
    "sns.histplot(df.salary)"
   ]
  },
  {
   "cell_type": "code",
   "execution_count": 6,
   "metadata": {},
   "outputs": [
    {
     "data": {
      "text/plain": [
       "<matplotlib.axes._subplots.AxesSubplot at 0x15effd32cf8>"
      ]
     },
     "execution_count": 6,
     "metadata": {},
     "output_type": "execute_result"
    },
    {
     "data": {
      "image/png": "[encoded data removed]",
      "text/plain": [
       "<Figure size 432x288 with 1 Axes>"
      ]
     },
     "metadata": {},
     "output_type": "display_data"
    }
   ],
   "source": [
    "sns.histplot(df.age)"
   ]
  },
  {
   "cell_type": "code",
   "execution_count": 7,
   "metadata": {},
   "outputs": [
    {
     "data": {
      "text/plain": [
       "<matplotlib.axes._subplots.AxesSubplot at 0x15effe11f28>"
      ]
     },
     "execution_count": 7,
     "metadata": {},
     "output_type": "execute_result"
    },
    {
     "data": {
      "image/png": "[encoded data removed]",
      "text/plain": [
       "<Figure size 432x288 with 1 Axes>"
      ]
     },
     "metadata": {},
     "output_type": "display_data"
    }
   ],
   "source": [
    "sns.histplot(df.home_cost) "
   ]
  },
  {
   "cell_type": "markdown",
   "metadata": {},
   "source": [
    "# Чистка датасета (5 баллов)\n",
    "* Есть ли дубли в данных? \n",
    "* Есть ли пропуски в данных? \n",
    "* Как стоит поступить с выбросами? (удалить или заменить \\ `dropna()` или `fillna()` )\n",
    "* Удалить бесмысленные признаки (`drop()`)\n",
    "* Найти и удалить выбросы по признаку `home_cost`. Сколько их?"
   ]
  },
  {
   "cell_type": "code",
   "execution_count": 9,
   "metadata": {},
   "outputs": [
    {
     "data": {
      "text/plain": [
       "0"
      ]
     },
     "execution_count": 9,
     "metadata": {},
     "output_type": "execute_result"
    }
   ],
   "source": [
    "sum(df.duplicated())  #дублей в данных нет"
   ]
  },
  {
   "cell_type": "code",
   "execution_count": 10,
   "metadata": {},
   "outputs": [
    {
     "data": {
      "text/plain": [
       "True"
      ]
     },
     "execution_count": 10,
     "metadata": {},
     "output_type": "execute_result"
    }
   ],
   "source": [
    "df.isnull().values.any() # есть пропуски"
   ]
  },
  {
   "cell_type": "code",
   "execution_count": 11,
   "metadata": {},
   "outputs": [
    {
     "data": {
      "text/plain": [
       "2770"
      ]
     },
     "execution_count": 11,
     "metadata": {},
     "output_type": "execute_result"
    }
   ],
   "source": [
    "df.isnull().sum().sum()  # их слишком много(около 50 процентов от данных)"
   ]
  },
  {
   "cell_type": "code",
   "execution_count": 12,
   "metadata": {},
   "outputs": [
    {
     "data": {
      "text/plain": [
       "2770"
      ]
     },
     "execution_count": 12,
     "metadata": {},
     "output_type": "execute_result"
    }
   ],
   "source": [
    "df['drive_info'].isnull().sum().sum() # все содержатся в столбце drive_info"
   ]
  },
  {
   "cell_type": "code",
   "execution_count": 13,
   "metadata": {},
   "outputs": [],
   "source": [
    "df = df.drop('drive_info', axis = 1)  #я решил выкинуть столбец полностью, т.к. слишком много пропусков в нем"
   ]
  },
  {
   "cell_type": "code",
   "execution_count": 14,
   "metadata": {},
   "outputs": [
    {
     "data": {
      "text/plain": [
       "False"
      ]
     },
     "execution_count": 14,
     "metadata": {},
     "output_type": "execute_result"
    }
   ],
   "source": [
    "df.isnull().values.any()"
   ]
  },
  {
   "cell_type": "code",
   "execution_count": 15,
   "metadata": {},
   "outputs": [
    {
     "name": "stderr",
     "output_type": "stream",
     "text": [
      "C:\\Users\\Lenovo\\Anaconda3\\lib\\site-packages\\seaborn\\_decorators.py:43: FutureWarning: Pass the following variable as a keyword arg: x. From version 0.12, the only valid positional argument will be `data`, and passing other arguments without an explicit keyword will result in an error or misinterpretation.\n",
      "  FutureWarning\n"
     ]
    },
    {
     "data": {
      "text/plain": [
       "<matplotlib.axes._subplots.AxesSubplot at 0x15e80543588>"
      ]
     },
     "execution_count": 15,
     "metadata": {},
     "output_type": "execute_result"
    },
    {
     "data": {
      "image/png": "[encoded data removed]",
      "text/plain": [
       "<Figure size 432x288 with 1 Axes>"
      ]
     },
     "metadata": {},
     "output_type": "display_data"
    }
   ],
   "source": [
    "sns.boxplot(df.home_cost)  # выбросы хорошо видно на боксплоте"
   ]
  },
  {
   "cell_type": "code",
   "execution_count": 52,
   "metadata": {},
   "outputs": [
    {
     "data": {
      "text/plain": [
       "5"
      ]
     },
     "execution_count": 52,
     "metadata": {},
     "output_type": "execute_result"
    }
   ],
   "source": [
    "len(df[df.home_cost > 1.6 *10**7]) #видим 5 явных выбросов"
   ]
  },
  {
   "cell_type": "code",
   "execution_count": 16,
   "metadata": {},
   "outputs": [],
   "source": [
    "df = df[df.home_cost < 1.6 *10**7]  # дропнем их"
   ]
  },
  {
   "cell_type": "code",
   "execution_count": 17,
   "metadata": {},
   "outputs": [
    {
     "name": "stderr",
     "output_type": "stream",
     "text": [
      "C:\\Users\\Lenovo\\Anaconda3\\lib\\site-packages\\seaborn\\_decorators.py:43: FutureWarning: Pass the following variable as a keyword arg: x. From version 0.12, the only valid positional argument will be `data`, and passing other arguments without an explicit keyword will result in an error or misinterpretation.\n",
      "  FutureWarning\n"
     ]
    },
    {
     "data": {
      "text/plain": [
       "<matplotlib.axes._subplots.AxesSubplot at 0x15e8059b390>"
      ]
     },
     "execution_count": 17,
     "metadata": {},
     "output_type": "execute_result"
    },
    {
     "data": {
      "image/png": "[encoded data removed]",
      "text/plain": [
       "<Figure size 432x288 with 1 Axes>"
      ]
     },
     "metadata": {},
     "output_type": "display_data"
    }
   ],
   "source": [
    "sns.boxplot(df.home_cost)"
   ]
  },
  {
   "cell_type": "code",
   "execution_count": 18,
   "metadata": {},
   "outputs": [
    {
     "data": {
      "text/plain": [
       "<matplotlib.axes._subplots.AxesSubplot at 0x15e805fa400>"
      ]
     },
     "execution_count": 18,
     "metadata": {},
     "output_type": "execute_result"
    },
    {
     "data": {
      "image/png": "[encoded data removed]",
      "text/plain": [
       "<Figure size 432x288 with 1 Axes>"
      ]
     },
     "metadata": {},
     "output_type": "display_data"
    }
   ],
   "source": [
    "sns.histplot(df.home_cost)\n"
   ]
  },
  {
   "cell_type": "markdown",
   "metadata": {},
   "source": [
    "# Изучение зависимых признаков (5 балла). \n",
    "* Построить матрицу корреляций\n",
    "* Визуализировать матрицу корреляции с помощью heatmap\n",
    "* Сделать выводы по самым скоррелированные признакам\n",
    "* Построить график зависимости между двумя самыми зависимыми признаками\n",
    "\n"
   ]
  },
  {
   "cell_type": "code",
   "execution_count": 19,
   "metadata": {},
   "outputs": [
    {
     "data": {
      "text/html": [
       "<div>\n",
       "<style scoped>\n",
       "    .dataframe tbody tr th:only-of-type {\n",
       "        vertical-align: middle;\n",
       "    }\n",
       "\n",
       "    .dataframe tbody tr th {\n",
       "        vertical-align: top;\n",
       "    }\n",
       "\n",
       "    .dataframe thead th {\n",
       "        text-align: right;\n",
       "    }\n",
       "</style>\n",
       "<table border=\"1\" class=\"dataframe\">\n",
       "  <thead>\n",
       "    <tr style=\"text-align: right;\">\n",
       "      <th></th>\n",
       "      <th>was_married</th>\n",
       "      <th>children</th>\n",
       "      <th>salary</th>\n",
       "      <th>sex</th>\n",
       "      <th>age</th>\n",
       "      <th>home_cost</th>\n",
       "      <th>happyness</th>\n",
       "    </tr>\n",
       "    <tr>\n",
       "      <th>id</th>\n",
       "      <th></th>\n",
       "      <th></th>\n",
       "      <th></th>\n",
       "      <th></th>\n",
       "      <th></th>\n",
       "      <th></th>\n",
       "      <th></th>\n",
       "    </tr>\n",
       "  </thead>\n",
       "  <tbody>\n",
       "    <tr>\n",
       "      <th>0</th>\n",
       "      <td>1</td>\n",
       "      <td>4.0</td>\n",
       "      <td>4.420530e+07</td>\n",
       "      <td>1</td>\n",
       "      <td>82.0</td>\n",
       "      <td>1.003674e+07</td>\n",
       "      <td>0.727499</td>\n",
       "    </tr>\n",
       "    <tr>\n",
       "      <th>1</th>\n",
       "      <td>1</td>\n",
       "      <td>2.0</td>\n",
       "      <td>1.737490e+08</td>\n",
       "      <td>1</td>\n",
       "      <td>32.0</td>\n",
       "      <td>1.014051e+07</td>\n",
       "      <td>0.383234</td>\n",
       "    </tr>\n",
       "    <tr>\n",
       "      <th>2</th>\n",
       "      <td>1</td>\n",
       "      <td>6.0</td>\n",
       "      <td>2.489055e+08</td>\n",
       "      <td>1</td>\n",
       "      <td>14.0</td>\n",
       "      <td>1.043318e+07</td>\n",
       "      <td>0.432142</td>\n",
       "    </tr>\n",
       "    <tr>\n",
       "      <th>3</th>\n",
       "      <td>0</td>\n",
       "      <td>1.0</td>\n",
       "      <td>1.268718e+08</td>\n",
       "      <td>0</td>\n",
       "      <td>10.0</td>\n",
       "      <td>1.004299e+07</td>\n",
       "      <td>0.377987</td>\n",
       "    </tr>\n",
       "    <tr>\n",
       "      <th>4</th>\n",
       "      <td>1</td>\n",
       "      <td>9.0</td>\n",
       "      <td>8.596042e+07</td>\n",
       "      <td>1</td>\n",
       "      <td>99.0</td>\n",
       "      <td>1.021908e+07</td>\n",
       "      <td>0.657579</td>\n",
       "    </tr>\n",
       "  </tbody>\n",
       "</table>\n",
       "</div>"
      ],
      "text/plain": [
       "    was_married  children        salary  sex   age     home_cost  happyness\n",
       "id                                                                         \n",
       "0             1       4.0  4.420530e+07    1  82.0  1.003674e+07   0.727499\n",
       "1             1       2.0  1.737490e+08    1  32.0  1.014051e+07   0.383234\n",
       "2             1       6.0  2.489055e+08    1  14.0  1.043318e+07   0.432142\n",
       "3             0       1.0  1.268718e+08    0  10.0  1.004299e+07   0.377987\n",
       "4             1       9.0  8.596042e+07    1  99.0  1.021908e+07   0.657579"
      ]
     },
     "execution_count": 19,
     "metadata": {},
     "output_type": "execute_result"
    }
   ],
   "source": [
    "num_data = df.select_dtypes(include=['int', 'float', 'int64'])  #возьмем численные признаки для построения матрицы коррреляции\n",
    "num_data.head()"
   ]
  },
  {
   "cell_type": "code",
   "execution_count": 20,
   "metadata": {
    "scrolled": true
   },
   "outputs": [
    {
     "data": {
      "text/html": [
       "<div>\n",
       "<style scoped>\n",
       "    .dataframe tbody tr th:only-of-type {\n",
       "        vertical-align: middle;\n",
       "    }\n",
       "\n",
       "    .dataframe tbody tr th {\n",
       "        vertical-align: top;\n",
       "    }\n",
       "\n",
       "    .dataframe thead th {\n",
       "        text-align: right;\n",
       "    }\n",
       "</style>\n",
       "<table border=\"1\" class=\"dataframe\">\n",
       "  <thead>\n",
       "    <tr style=\"text-align: right;\">\n",
       "      <th></th>\n",
       "      <th>was_married</th>\n",
       "      <th>children</th>\n",
       "      <th>salary</th>\n",
       "      <th>sex</th>\n",
       "      <th>age</th>\n",
       "      <th>home_cost</th>\n",
       "      <th>happyness</th>\n",
       "    </tr>\n",
       "  </thead>\n",
       "  <tbody>\n",
       "    <tr>\n",
       "      <th>was_married</th>\n",
       "      <td>1.000000</td>\n",
       "      <td>0.242498</td>\n",
       "      <td>-0.481980</td>\n",
       "      <td>0.337530</td>\n",
       "      <td>0.200835</td>\n",
       "      <td>-0.341256</td>\n",
       "      <td>0.252553</td>\n",
       "    </tr>\n",
       "    <tr>\n",
       "      <th>children</th>\n",
       "      <td>0.242498</td>\n",
       "      <td>1.000000</td>\n",
       "      <td>0.375516</td>\n",
       "      <td>0.389386</td>\n",
       "      <td>0.743025</td>\n",
       "      <td>0.286174</td>\n",
       "      <td>0.605916</td>\n",
       "    </tr>\n",
       "    <tr>\n",
       "      <th>salary</th>\n",
       "      <td>-0.481980</td>\n",
       "      <td>0.375516</td>\n",
       "      <td>1.000000</td>\n",
       "      <td>0.240089</td>\n",
       "      <td>0.073205</td>\n",
       "      <td>0.685847</td>\n",
       "      <td>0.200589</td>\n",
       "    </tr>\n",
       "    <tr>\n",
       "      <th>sex</th>\n",
       "      <td>0.337530</td>\n",
       "      <td>0.389386</td>\n",
       "      <td>0.240089</td>\n",
       "      <td>1.000000</td>\n",
       "      <td>0.341700</td>\n",
       "      <td>0.184011</td>\n",
       "      <td>0.470089</td>\n",
       "    </tr>\n",
       "    <tr>\n",
       "      <th>age</th>\n",
       "      <td>0.200835</td>\n",
       "      <td>0.743025</td>\n",
       "      <td>0.073205</td>\n",
       "      <td>0.341700</td>\n",
       "      <td>1.000000</td>\n",
       "      <td>0.053093</td>\n",
       "      <td>0.609307</td>\n",
       "    </tr>\n",
       "    <tr>\n",
       "      <th>home_cost</th>\n",
       "      <td>-0.341256</td>\n",
       "      <td>0.286174</td>\n",
       "      <td>0.685847</td>\n",
       "      <td>0.184011</td>\n",
       "      <td>0.053093</td>\n",
       "      <td>1.000000</td>\n",
       "      <td>0.153435</td>\n",
       "    </tr>\n",
       "    <tr>\n",
       "      <th>happyness</th>\n",
       "      <td>0.252553</td>\n",
       "      <td>0.605916</td>\n",
       "      <td>0.200589</td>\n",
       "      <td>0.470089</td>\n",
       "      <td>0.609307</td>\n",
       "      <td>0.153435</td>\n",
       "      <td>1.000000</td>\n",
       "    </tr>\n",
       "  </tbody>\n",
       "</table>\n",
       "</div>"
      ],
      "text/plain": [
       "             was_married  children    salary       sex       age  home_cost  \\\n",
       "was_married     1.000000  0.242498 -0.481980  0.337530  0.200835  -0.341256   \n",
       "children        0.242498  1.000000  0.375516  0.389386  0.743025   0.286174   \n",
       "salary         -0.481980  0.375516  1.000000  0.240089  0.073205   0.685847   \n",
       "sex             0.337530  0.389386  0.240089  1.000000  0.341700   0.184011   \n",
       "age             0.200835  0.743025  0.073205  0.341700  1.000000   0.053093   \n",
       "home_cost      -0.341256  0.286174  0.685847  0.184011  0.053093   1.000000   \n",
       "happyness       0.252553  0.605916  0.200589  0.470089  0.609307   0.153435   \n",
       "\n",
       "             happyness  \n",
       "was_married   0.252553  \n",
       "children      0.605916  \n",
       "salary        0.200589  \n",
       "sex           0.470089  \n",
       "age           0.609307  \n",
       "home_cost     0.153435  \n",
       "happyness     1.000000  "
      ]
     },
     "execution_count": 20,
     "metadata": {},
     "output_type": "execute_result"
    }
   ],
   "source": [
    "corr_matrix = num_data.corr()  #самые скоррелированные пары (age, children) и (home_cost, salary)\n",
    "corr_matrix "
   ]
  },
  {
   "cell_type": "code",
   "execution_count": 21,
   "metadata": {
    "scrolled": true
   },
   "outputs": [
    {
     "data": {
      "image/png": "[encoded data removed]",
      "text/plain": [
       "<Figure size 432x288 with 2 Axes>"
      ]
     },
     "metadata": {},
     "output_type": "display_data"
    }
   ],
   "source": [
    "ax = sns.heatmap(corr_matrix)"
   ]
  },
  {
   "cell_type": "code",
   "execution_count": 22,
   "metadata": {},
   "outputs": [
    {
     "data": {
      "text/plain": [
       "<matplotlib.collections.PathCollection at 0x15e807a2d68>"
      ]
     },
     "execution_count": 22,
     "metadata": {},
     "output_type": "execute_result"
    },
    {
     "data": {
      "image/png": "[encoded data removed]",
      "text/plain": [
       "<Figure size 432x288 with 1 Axes>"
      ]
     },
     "metadata": {},
     "output_type": "display_data"
    }
   ],
   "source": [
    "plt.scatter(df.age, df.children)"
   ]
  },
  {
   "cell_type": "markdown",
   "metadata": {},
   "source": [
    "# Нормировка признаков (3 балла)\n",
    "* Отнормировать данные\n",
    "* Обосновать выбор нормировки"
   ]
  },
  {
   "cell_type": "code",
   "execution_count": 25,
   "metadata": {},
   "outputs": [
    {
     "data": {
      "text/html": [
       "<div>\n",
       "<style scoped>\n",
       "    .dataframe tbody tr th:only-of-type {\n",
       "        vertical-align: middle;\n",
       "    }\n",
       "\n",
       "    .dataframe tbody tr th {\n",
       "        vertical-align: top;\n",
       "    }\n",
       "\n",
       "    .dataframe thead th {\n",
       "        text-align: right;\n",
       "    }\n",
       "</style>\n",
       "<table border=\"1\" class=\"dataframe\">\n",
       "  <thead>\n",
       "    <tr style=\"text-align: right;\">\n",
       "      <th></th>\n",
       "      <th>was_married</th>\n",
       "      <th>children</th>\n",
       "      <th>salary</th>\n",
       "      <th>sex</th>\n",
       "      <th>age</th>\n",
       "      <th>profession</th>\n",
       "      <th>home_cost</th>\n",
       "      <th>happyness</th>\n",
       "    </tr>\n",
       "    <tr>\n",
       "      <th>id</th>\n",
       "      <th></th>\n",
       "      <th></th>\n",
       "      <th></th>\n",
       "      <th></th>\n",
       "      <th></th>\n",
       "      <th></th>\n",
       "      <th></th>\n",
       "      <th></th>\n",
       "    </tr>\n",
       "  </thead>\n",
       "  <tbody>\n",
       "    <tr>\n",
       "      <th>0</th>\n",
       "      <td>1</td>\n",
       "      <td>0.390008</td>\n",
       "      <td>-0.504605</td>\n",
       "      <td>1</td>\n",
       "      <td>1.542990</td>\n",
       "      <td>Engineer</td>\n",
       "      <td>-1.235713</td>\n",
       "      <td>1.738421</td>\n",
       "    </tr>\n",
       "    <tr>\n",
       "      <th>1</th>\n",
       "      <td>1</td>\n",
       "      <td>-0.311597</td>\n",
       "      <td>1.110127</td>\n",
       "      <td>1</td>\n",
       "      <td>0.006648</td>\n",
       "      <td>Doctor</td>\n",
       "      <td>-0.362021</td>\n",
       "      <td>-0.500731</td>\n",
       "    </tr>\n",
       "    <tr>\n",
       "      <th>2</th>\n",
       "      <td>1</td>\n",
       "      <td>1.091613</td>\n",
       "      <td>2.046936</td>\n",
       "      <td>1</td>\n",
       "      <td>-0.546435</td>\n",
       "      <td>Entertainment</td>\n",
       "      <td>2.102104</td>\n",
       "      <td>-0.182630</td>\n",
       "    </tr>\n",
       "    <tr>\n",
       "      <th>3</th>\n",
       "      <td>0</td>\n",
       "      <td>-0.662399</td>\n",
       "      <td>0.525814</td>\n",
       "      <td>0</td>\n",
       "      <td>-0.669343</td>\n",
       "      <td>Lawyer</td>\n",
       "      <td>-1.183165</td>\n",
       "      <td>-0.534858</td>\n",
       "    </tr>\n",
       "    <tr>\n",
       "      <th>4</th>\n",
       "      <td>1</td>\n",
       "      <td>2.144021</td>\n",
       "      <td>0.015863</td>\n",
       "      <td>1</td>\n",
       "      <td>2.065346</td>\n",
       "      <td>Artist</td>\n",
       "      <td>0.299485</td>\n",
       "      <td>1.283652</td>\n",
       "    </tr>\n",
       "  </tbody>\n",
       "</table>\n",
       "</div>"
      ],
      "text/plain": [
       "    was_married  children    salary  sex       age     profession  home_cost  \\\n",
       "id                                                                             \n",
       "0             1  0.390008 -0.504605    1  1.542990       Engineer  -1.235713   \n",
       "1             1 -0.311597  1.110127    1  0.006648         Doctor  -0.362021   \n",
       "2             1  1.091613  2.046936    1 -0.546435  Entertainment   2.102104   \n",
       "3             0 -0.662399  0.525814    0 -0.669343         Lawyer  -1.183165   \n",
       "4             1  2.144021  0.015863    1  2.065346         Artist   0.299485   \n",
       "\n",
       "    happyness  \n",
       "id             \n",
       "0    1.738421  \n",
       "1   -0.500731  \n",
       "2   -0.182630  \n",
       "3   -0.534858  \n",
       "4    1.283652  "
      ]
     },
     "execution_count": 25,
     "metadata": {},
     "output_type": "execute_result"
    }
   ],
   "source": [
    "from sklearn.preprocessing import StandardScaler, MinMaxScaler, RobustScaler \n",
    "ss = StandardScaler()  #выбираю стандарт скейлер, так как он обычно лучше с моделями работает и мы почистили выбросы\n",
    "\n",
    "df[['children','salary', 'age', 'home_cost', 'happyness']] = ss.fit_transform(df[['children','salary', 'age', 'home_cost', 'happyness']])\n",
    "df.head()"
   ]
  },
  {
   "cell_type": "code",
   "execution_count": 26,
   "metadata": {},
   "outputs": [],
   "source": [
    "df = df.drop('profession', axis =1)"
   ]
  },
  {
   "cell_type": "code",
   "execution_count": 27,
   "metadata": {},
   "outputs": [],
   "source": [
    "from tqdm import tqdm"
   ]
  },
  {
   "cell_type": "markdown",
   "metadata": {},
   "source": [
    "# Выделить кластеры (6 баллов)\n",
    "* Определить оптимальное количество кластеров с помощью правила локтя/осыпи\n",
    "* Получить номера класстеров для каждого пользователя. "
   ]
  },
  {
   "cell_type": "code",
   "execution_count": 28,
   "metadata": {},
   "outputs": [
    {
     "name": "stderr",
     "output_type": "stream",
     "text": [
      "100%|██████████████████████████████████████████████████████████████████████████████████| 13/13 [00:11<00:00,  1.05s/it]\n"
     ]
    }
   ],
   "source": [
    "from sklearn.cluster import KMeans\n",
    "from sklearn.metrics import silhouette_samples, silhouette_score\n",
    "\n",
    "\n",
    "range_n_clusters = np.array(range(2, 15))\n",
    "arr_of_silhouette = np.array([])\n",
    "arr_of_distances = np.array([])\n",
    "for n_clusters in tqdm(range_n_clusters): #строим модели для разного количества кластеров\n",
    "\n",
    "    clusterer = KMeans(n_clusters=n_clusters, random_state=10)\n",
    "    cluster_labels = clusterer.fit_predict(df)\n",
    "\n",
    "    silhouette_avg = silhouette_score(df, cluster_labels)\n",
    "    \n",
    "    arr_of_silhouette = np.append(arr_of_silhouette, silhouette_avg)\n",
    "    arr_of_distances = np.append(arr_of_distances, clusterer.inertia_) #сохраняем среднее расстояние в кластерах\n"
   ]
  },
  {
   "cell_type": "code",
   "execution_count": 29,
   "metadata": {},
   "outputs": [
    {
     "data": {
      "text/plain": [
       "<matplotlib.collections.PathCollection at 0x15e82930978>"
      ]
     },
     "execution_count": 29,
     "metadata": {},
     "output_type": "execute_result"
    },
    {
     "data": {
      "image/png": "[encoded data removed]",
      "text/plain": [
       "<Figure size 432x288 with 1 Axes>"
      ]
     },
     "metadata": {},
     "output_type": "display_data"
    }
   ],
   "source": [
    "plt.scatter(range_n_clusters, arr_of_silhouette)"
   ]
  },
  {
   "cell_type": "code",
   "execution_count": 30,
   "metadata": {},
   "outputs": [
    {
     "data": {
      "text/plain": [
       "<matplotlib.collections.PathCollection at 0x15e82993c18>"
      ]
     },
     "execution_count": 30,
     "metadata": {},
     "output_type": "execute_result"
    },
    {
     "data": {
      "image/png": "[encoded data removed]",
      "text/plain": [
       "<Figure size 432x288 with 1 Axes>"
      ]
     },
     "metadata": {},
     "output_type": "display_data"
    }
   ],
   "source": [
    "plt.scatter(range_n_clusters, arr_of_distances)  # по правилу локтя оптимальное количество кластеров - 10"
   ]
  },
  {
   "cell_type": "code",
   "execution_count": 47,
   "metadata": {},
   "outputs": [],
   "source": [
    "from sklearn.cluster import KMeans\n",
    "\n",
    "clusterer = KMeans(n_clusters=10, random_state=42, max_iter=500)\n",
    "cluster_labels = clusterer.fit_predict(df.drop(['happyness'], axis = 1))"
   ]
  },
  {
   "cell_type": "code",
   "execution_count": null,
   "metadata": {},
   "outputs": [],
   "source": []
  },
  {
   "cell_type": "markdown",
   "metadata": {},
   "source": [
    "# Снизить разерность (6 баллов)\n",
    "\n",
    "Воспользуйтесь методом `t-SNE ()` (или `PCA`, `U-MAP`)\n",
    "\n",
    "ссылка на документацию:\n",
    "https://scikit-learn.org/stable/modules/generated/sklearn.manifold.TSNE.html"
   ]
  },
  {
   "cell_type": "code",
   "execution_count": 48,
   "metadata": {},
   "outputs": [],
   "source": [
    "from sklearn.manifold import TSNE\n",
    "\n",
    "data_x_y = TSNE(n_components=2, \n",
    "                 random_state=22, \n",
    "                 init='random').fit_transform(df.drop(['happyness'], axis = 1))"
   ]
  },
  {
   "cell_type": "code",
   "execution_count": 38,
   "metadata": {},
   "outputs": [
    {
     "data": {
      "text/plain": [
       "array([[ 55.051228, -51.83231 ],\n",
       "       [-11.925   , -36.668003],\n",
       "       [-76.80868 ,  33.63669 ],\n",
       "       ...,\n",
       "       [ 57.130787,  10.314169],\n",
       "       [-25.94455 , -79.43014 ],\n",
       "       [-28.103106,  70.531586]], dtype=float32)"
      ]
     },
     "execution_count": 38,
     "metadata": {},
     "output_type": "execute_result"
    }
   ],
   "source": [
    "data_x_y"
   ]
  },
  {
   "cell_type": "code",
   "execution_count": 49,
   "metadata": {},
   "outputs": [],
   "source": [
    "data_x = data_x_y[:, 0]\n",
    "data_y = data_x_y[:, 1]"
   ]
  },
  {
   "cell_type": "code",
   "execution_count": null,
   "metadata": {},
   "outputs": [],
   "source": []
  },
  {
   "cell_type": "markdown",
   "metadata": {},
   "source": [
    "# Нарисовать полученные кластеры (10 баллов)"
   ]
  },
  {
   "cell_type": "code",
   "execution_count": 50,
   "metadata": {},
   "outputs": [
    {
     "data": {
      "image/png": "[encoded data removed]",
      "text/plain": [
       "<Figure size 864x648 with 1 Axes>"
      ]
     },
     "metadata": {},
     "output_type": "display_data"
    }
   ],
   "source": [
    "\n",
    "import matplotlib.pyplot as plt\n",
    "\n",
    "plt.figure(figsize=(12,9))\n",
    "plt.scatter(data_x, data_y, c=cluster_labels, cmap ='Set3', s=5)\n",
    "#plt.scatter(data_x, data_y, c=y_blobs, s=1, cmap ='Set3')\n",
    "plt.legend(cluster_labels)\n",
    "plt.show()"
   ]
  },
  {
   "cell_type": "code",
   "execution_count": null,
   "metadata": {},
   "outputs": [],
   "source": []
  },
  {
   "cell_type": "markdown",
   "metadata": {},
   "source": [
    "# Дополнительные баллы (+10 баллов)\n",
    "* Аккуратный и понятный код **+5 баллов**\n",
    "* Присутствуют лаконичные и понятные комментарии **+5 балов**"
   ]
  },
  {
   "cell_type": "code",
   "execution_count": null,
   "metadata": {},
   "outputs": [],
   "source": []
  }
 ],
 "metadata": {
  "kernelspec": {
   "display_name": "Python 3",
   "language": "python",
   "name": "python3"
  },
  "language_info": {
   "codemirror_mode": {
    "name": "ipython",
    "version": 3
   },
   "file_extension": ".py",
   "mimetype": "text/x-python",
   "name": "python",
   "nbconvert_exporter": "python",
   "pygments_lexer": "ipython3",
   "version": "3.7.3"
  },
  "toc": {
   "base_numbering": 1,
   "nav_menu": {},
   "number_sections": true,
   "sideBar": true,
   "skip_h1_title": false,
   "title_cell": "Table of Contents",
   "title_sidebar": "Contents",
   "toc_cell": false,
   "toc_position": {},
   "toc_section_display": true,
   "toc_window_display": false
  }
 },
 "nbformat": 4,
 "nbformat_minor": 4
}
