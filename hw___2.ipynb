{
 "cells": [
  {
   "cell_type": "code",
   "execution_count": 1,
   "metadata": {},
   "outputs": [],
   "source": [
    "from selenium import webdriver\n",
    "from webdriver_manager.chrome import ChromeDriverManager"
   ]
  },
  {
   "cell_type": "code",
   "execution_count": 2,
   "metadata": {},
   "outputs": [],
   "source": [
    "import time\n",
    "import pandas as pd\n",
    "from tqdm import tqdm"
   ]
  },
  {
   "cell_type": "code",
   "execution_count": 3,
   "metadata": {},
   "outputs": [],
   "source": [
    "import numpy as np"
   ]
  },
  {
   "cell_type": "code",
   "execution_count": 4,
   "metadata": {},
   "outputs": [],
   "source": [
    "from selenium.webdriver.common.by import By"
   ]
  },
  {
   "cell_type": "code",
   "execution_count": 6,
   "metadata": {},
   "outputs": [],
   "source": [
    "from selenium.webdriver.support.ui import WebDriverWait\n",
    "from selenium.webdriver.support import expected_conditions as EC"
   ]
  },
  {
   "cell_type": "code",
   "execution_count": 5,
   "metadata": {},
   "outputs": [],
   "source": [
    "path_CDM = './chrome_driver/chromedriver.exe'"
   ]
  },
  {
   "cell_type": "code",
   "execution_count": 20,
   "metadata": {},
   "outputs": [],
   "source": [
    "info = {} #словарь, где ключ - имя преподавателя, а значение -  датафрейм с сырой информацией\n"
   ]
  },
  {
   "cell_type": "code",
   "execution_count": 89,
   "metadata": {},
   "outputs": [
    {
     "name": "stderr",
     "output_type": "stream",
     "text": [
      "C:\\Users\\Lenovo\\Anaconda3\\lib\\site-packages\\ipykernel_launcher.py:3: DeprecationWarning: executable_path has been deprecated, please pass in a Service object\n",
      "  This is separate from the ipykernel package so we can avoid doing imports until\n",
      "C:\\Users\\Lenovo\\Anaconda3\\lib\\site-packages\\ipykernel_launcher.py:14: DeprecationWarning: find_elements_by_* commands are deprecated. Please use find_elements() instead\n",
      "  \n",
      "C:\\Users\\Lenovo\\Anaconda3\\lib\\site-packages\\ipykernel_launcher.py:21: DeprecationWarning: find_element_by_* commands are deprecated. Please use find_element() instead\n"
     ]
    },
    {
     "name": "stdout",
     "output_type": "stream",
     "text": [
      "Ошибка\n",
      "Message: no such window: target window already closed\n",
      "from unknown error: web view not found\n",
      "  (Session info: chrome=96.0.4664.93)\n",
      "Stacktrace:\n",
      "Backtrace:\n",
      "\tOrdinal0 [0x007E6903+2517251]\n",
      "\tOrdinal0 [0x0077F8E1+2095329]\n",
      "\tOrdinal0 [0x00682848+1058888]\n",
      "\tOrdinal0 [0x0066BF90+966544]\n",
      "\tOrdinal0 [0x006C8999+1345945]\n",
      "\tOrdinal0 [0x006D5342+1397570]\n",
      "\tOrdinal0 [0x006C639B+1336219]\n",
      "\tOrdinal0 [0x006A27A7+1189799]\n",
      "\tOrdinal0 [0x006A3609+1193481]\n",
      "\tGetHandleVerifier [0x00975904+1577972]\n",
      "\tGetHandleVerifier [0x00A20B97+2279047]\n",
      "\tGetHandleVerifier [0x00876D09+534521]\n",
      "\tGetHandleVerifier [0x00875DB9+530601]\n",
      "\tOrdinal0 [0x00784FF9+2117625]\n",
      "\tOrdinal0 [0x007898A8+2136232]\n",
      "\tOrdinal0 [0x007899E2+2136546]\n",
      "\tOrdinal0 [0x00793541+2176321]\n",
      "\tBaseThreadInitThunk [0x750FFA29+25]\n",
      "\tRtlGetAppContainerNamedObjectPath [0x77287A9E+286]\n",
      "\tRtlGetAppContainerNamedObjectPath [0x77287A6E+238]\n",
      "\n",
      "Закрыл\n"
     ]
    }
   ],
   "source": [
    "try:\n",
    "    url = 'http://wikimipt.org/wiki/'\n",
    "    browser = webdriver.Chrome(path_CDM)\n",
    "    browser.get(url)\n",
    "    time.sleep(1)\n",
    "    \n",
    "    kafs = browser.find_elements(By.XPATH, '/html/body/div[3]/div[2]/div[4]/div[3]/ul/li') #находим количество кафедр\n",
    "    \n",
    "    num_kafs = len(kafs)\n",
    "    \n",
    "    for i in range(1, num_kafs+1): # итерируемся по кафедрам\n",
    "        \n",
    "        kaf = browser.find_element(By.XPATH, '/html/body/div[3]/div[2]/div[4]/div[3]/ul/li[' + str(i) + ']/a')\n",
    "        kaf.click()  #проваливаемся в кафедру\n",
    "        \n",
    "        preps = browser.find_elements_by_xpath('/html/body/div[3]/div[2]/div[4]/div[3]/ul/li') #находим количество преподавателей\n",
    "        num_preps = len(preps)\n",
    "\n",
    "        for j in range(1, num_preps+1): #итерируемся по преподавателям\n",
    "            prep = browser.find_element(By.XPATH, '/html/body/div[3]/div[2]/div[4]/div[3]/ul/li[' + str(j) + ']/a')\n",
    "\n",
    "            prep.click() #проваливаемся на страничку преподавателя\n",
    "            #считываем таблицу со страницы с информацией о преподавателе\n",
    "            \n",
    "            df = pd.read_html(browser.find_element_by_tag_name(\"table\").get_attribute('outerHTML'))[0].T \n",
    "            df = df.rename(columns=df.iloc[0]).drop(df.index[0])\n",
    "            \n",
    "            #добавляем информацию в словарь\n",
    "            info[df.iloc[0,0]] = df\n",
    "\n",
    "            browser.back() #возвращаемся на страницу кафедры\n",
    "        browser.back() #возвращаемся к списку кафедр\n",
    "            \n",
    "            \n",
    "    \n",
    "   \n",
    "    \n",
    "except Exception as e:\n",
    "    print('Ошибка')\n",
    "    print(e)\n",
    "    \n",
    "finally:\n",
    "    time.sleep(3)  \n",
    "    browser.quit()  \n",
    "    print('Закрыл')"
   ]
  },
  {
   "cell_type": "code",
   "execution_count": 44,
   "metadata": {},
   "outputs": [
    {
     "data": {
      "text/plain": [
       "737"
      ]
     },
     "execution_count": 44,
     "metadata": {},
     "output_type": "execute_result"
    }
   ],
   "source": [
    "len(info.values()) #количество преподавателей\n"
   ]
  },
  {
   "cell_type": "code",
   "execution_count": 64,
   "metadata": {},
   "outputs": [],
   "source": [
    "def string_to_mark(str):  #костыльная функция для перевода строки с информацией об оценке преподавателя в оценку   \n",
    "    if str[5] == '(':\n",
    "        return np.nan  #нет оценок\n",
    "    else:\n",
    "        if str[6] == ' ':\n",
    "            return str[5] #оценка целая\n",
    "        return str[5:9] #оценка дробная\n",
    "    \n",
    "    "
   ]
  },
  {
   "cell_type": "code",
   "execution_count": 66,
   "metadata": {},
   "outputs": [
    {
     "data": {
      "text/plain": [
       "'4.86'"
      ]
     },
     "execution_count": 66,
     "metadata": {},
     "output_type": "execute_result"
    }
   ],
   "source": [
    "string_to_mark('012344.86 ( 51 голос )')"
   ]
  },
  {
   "cell_type": "code",
   "execution_count": 74,
   "metadata": {},
   "outputs": [],
   "source": [
    "final = np.array([])\n",
    "#бежим по словарю с преподавателями и составляем датасет\n",
    "for x in info.values():\n",
    "    prep = [np.nan]*9\n",
    "    \n",
    "    prep[0] = x.iloc[0][0]  #имя преподавателя\n",
    "    \n",
    "    if 'Дата рождения' in x.columns:\n",
    "        prep[1] = x['Дата рождения'][1]\n",
    "        \n",
    "    prep[2] = x['Работает'][1]\n",
    "    if 'Учёная степень' in x.columns:\n",
    "        prep[3] = x['Учёная степень'][1]\n",
    "    prep[4] = string_to_mark(x['Знания'][1])\n",
    "    prep[5] = string_to_mark(x['Умение преподавать'][1])\n",
    "    prep[6] = string_to_mark(x['В общении'][1])\n",
    "    prep[7] = string_to_mark(x['«Халявность»'][1])\n",
    "    prep[8] = string_to_mark(x['Общая оценка'][1])\n",
    "    final = np.append(final, prep)\n",
    "    \n"
   ]
  },
  {
   "cell_type": "code",
   "execution_count": 78,
   "metadata": {},
   "outputs": [],
   "source": [
    "final_df = pd.DataFrame(final.reshape((737,-1)))"
   ]
  },
  {
   "cell_type": "code",
   "execution_count": 87,
   "metadata": {},
   "outputs": [],
   "source": [
    "#сохраняем csv\n",
    "final_df.to_csv('preps.csv')\n"
   ]
  },
  {
   "cell_type": "code",
   "execution_count": 88,
   "metadata": {},
   "outputs": [
    {
     "data": {
      "text/html": [
       "<div>\n",
       "<style scoped>\n",
       "    .dataframe tbody tr th:only-of-type {\n",
       "        vertical-align: middle;\n",
       "    }\n",
       "\n",
       "    .dataframe tbody tr th {\n",
       "        vertical-align: top;\n",
       "    }\n",
       "\n",
       "    .dataframe thead th {\n",
       "        text-align: right;\n",
       "    }\n",
       "</style>\n",
       "<table border=\"1\" class=\"dataframe\">\n",
       "  <thead>\n",
       "    <tr style=\"text-align: right;\">\n",
       "      <th></th>\n",
       "      <th>Unnamed: 0</th>\n",
       "      <th>0</th>\n",
       "      <th>1</th>\n",
       "      <th>2</th>\n",
       "      <th>3</th>\n",
       "      <th>4</th>\n",
       "      <th>5</th>\n",
       "      <th>6</th>\n",
       "      <th>7</th>\n",
       "      <th>8</th>\n",
       "    </tr>\n",
       "  </thead>\n",
       "  <tbody>\n",
       "    <tr>\n",
       "      <th>0</th>\n",
       "      <td>0</td>\n",
       "      <td>Агаханов Назар Хангельдыевич</td>\n",
       "      <td>25 июня 1954</td>\n",
       "      <td>Кафедра высшей математики</td>\n",
       "      <td>Кандидат физико-математических наук (1988)</td>\n",
       "      <td>4.86</td>\n",
       "      <td>4.77</td>\n",
       "      <td>4.79</td>\n",
       "      <td>4.25</td>\n",
       "      <td>4.79</td>\n",
       "    </tr>\n",
       "    <tr>\n",
       "      <th>1</th>\n",
       "      <td>1</td>\n",
       "      <td>Агаханова Яна Сергеевна</td>\n",
       "      <td>NaN</td>\n",
       "      <td>Кафедра высшей математики</td>\n",
       "      <td>Кандидат физико-математических наук (2007)</td>\n",
       "      <td>4.51</td>\n",
       "      <td>4.63</td>\n",
       "      <td>4.85</td>\n",
       "      <td>4.81</td>\n",
       "      <td>4.81</td>\n",
       "    </tr>\n",
       "    <tr>\n",
       "      <th>2</th>\n",
       "      <td>2</td>\n",
       "      <td>Алексеев Василий Антонович</td>\n",
       "      <td>NaN</td>\n",
       "      <td>Кафедра высшей математики  Кафедра информатики</td>\n",
       "      <td>NaN</td>\n",
       "      <td>4.67</td>\n",
       "      <td>4.33</td>\n",
       "      <td>4.50</td>\n",
       "      <td>4.17</td>\n",
       "      <td>4.67</td>\n",
       "    </tr>\n",
       "    <tr>\n",
       "      <th>3</th>\n",
       "      <td>3</td>\n",
       "      <td>Амосов Григорий Геннадьевич</td>\n",
       "      <td>27 ноября 1972</td>\n",
       "      <td>Кафедра высшей математики</td>\n",
       "      <td>Доктор физико-математических наук</td>\n",
       "      <td>4.42</td>\n",
       "      <td>3.42</td>\n",
       "      <td>4.33</td>\n",
       "      <td>4.44</td>\n",
       "      <td>4.00</td>\n",
       "    </tr>\n",
       "    <tr>\n",
       "      <th>4</th>\n",
       "      <td>4</td>\n",
       "      <td>Андреев Михаил Юрьевич</td>\n",
       "      <td>NaN</td>\n",
       "      <td>Кафедра высшей математики</td>\n",
       "      <td>кандидат физико-математических наук</td>\n",
       "      <td>3.46</td>\n",
       "      <td>3.50</td>\n",
       "      <td>3.73</td>\n",
       "      <td>3.47</td>\n",
       "      <td>3.69</td>\n",
       "    </tr>\n",
       "  </tbody>\n",
       "</table>\n",
       "</div>"
      ],
      "text/plain": [
       "   Unnamed: 0                             0               1  \\\n",
       "0           0  Агаханов Назар Хангельдыевич    25 июня 1954   \n",
       "1           1       Агаханова Яна Сергеевна             NaN   \n",
       "2           2    Алексеев Василий Антонович             NaN   \n",
       "3           3   Амосов Григорий Геннадьевич  27 ноября 1972   \n",
       "4           4        Андреев Михаил Юрьевич             NaN   \n",
       "\n",
       "                                                2  \\\n",
       "0                       Кафедра высшей математики   \n",
       "1                       Кафедра высшей математики   \n",
       "2  Кафедра высшей математики  Кафедра информатики   \n",
       "3                       Кафедра высшей математики   \n",
       "4                       Кафедра высшей математики   \n",
       "\n",
       "                                            3     4     5     6     7     8  \n",
       "0  Кандидат физико-математических наук (1988)  4.86  4.77  4.79  4.25  4.79  \n",
       "1  Кандидат физико-математических наук (2007)  4.51  4.63  4.85  4.81  4.81  \n",
       "2                                         NaN  4.67  4.33  4.50  4.17  4.67  \n",
       "3           Доктор физико-математических наук  4.42  3.42  4.33  4.44  4.00  \n",
       "4         кандидат физико-математических наук  3.46  3.50  3.73  3.47  3.69  "
      ]
     },
     "execution_count": 88,
     "metadata": {},
     "output_type": "execute_result"
    }
   ],
   "source": [
    "pd.read_csv('preps.csv').head()"
   ]
  }
 ],
 "metadata": {
  "kernelspec": {
   "display_name": "Python 3",
   "language": "python",
   "name": "python3"
  },
  "language_info": {
   "codemirror_mode": {
    "name": "ipython",
    "version": 3
   },
   "file_extension": ".py",
   "mimetype": "text/x-python",
   "name": "python",
   "nbconvert_exporter": "python",
   "pygments_lexer": "ipython3",
   "version": "3.7.3"
  }
 },
 "nbformat": 4,
 "nbformat_minor": 2
}
